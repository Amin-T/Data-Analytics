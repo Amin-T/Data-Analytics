{
 "cells": [
  {
   "cell_type": "code",
   "execution_count": 2,
   "metadata": {},
   "outputs": [],
   "source": [
    "\"\"\"\n",
    "The codes performe simple pre-proccesing of multiples .txt files and saves the results again as .txt files.\n",
    "\n",
    "Provided by: Amin\n",
    "\"\"\"\n",
    "\n",
    "#pip install nltk\n",
    "#nltk.download('stopwords')\n",
    "#nltk.download('wordnet')\n",
    "\n",
    "import glob\n",
    "import os\n",
    "import string\n",
    "\n",
    "# Read .txt files\n",
    "os.chdir('/data/files1')\n",
    "Data = {}\n",
    "for file in glob.glob('*.txt'):\n",
    "    with open(file, 'r', encoding= 'utf-8') as f:\n",
    "        Data[file.split('.')[0]] = f.read()"
   ]
  },
  {
   "cell_type": "code",
   "execution_count": 4,
   "metadata": {},
   "outputs": [],
   "source": [
    "names = Data.keys()\n",
    "Data_prep = {}\n",
    "punc = set(string.punctuation)\n",
    "from nltk.corpus import stopwords\n",
    "stop = stopwords.words('english')\n",
    "for i in names:\n",
    "    lower = Data[i].lower()\n",
    "    num_free = ''.join(x for x in lower if not x.isdigit())\n",
    "    punc_free = ''.join(x for x in num_free if x not in punc)\n",
    "    stop_free = ' '.join(x for x in punc_free.split() if x not in stop)\n",
    "    Data_prep[i] = stop_free"
   ]
  },
  {
   "cell_type": "code",
   "execution_count": null,
   "metadata": {},
   "outputs": [],
   "source": [
    "path = '/data/files2'\n",
    "for i in names:\n",
    "    with open(path+'/'+i+'.txt', 'w', encoding= 'utf-8') as f:\n",
    "        f.write(Data_prep[i])"
   ]
  }
 ],
 "metadata": {
  "kernelspec": {
   "display_name": "Python 3",
   "language": "python",
   "name": "python3"
  },
  "language_info": {
   "codemirror_mode": {
    "name": "ipython",
    "version": 3
   },
   "file_extension": ".py",
   "mimetype": "text/x-python",
   "name": "python",
   "nbconvert_exporter": "python",
   "pygments_lexer": "ipython3",
   "version": "3.7.4"
  }
 },
 "nbformat": 4,
 "nbformat_minor": 4
}
