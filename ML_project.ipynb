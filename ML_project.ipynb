{
  "nbformat": 4,
  "nbformat_minor": 0,
  "metadata": {
    "colab": {
      "name": "DM_project.ipynb",
      "provenance": [],
      "collapsed_sections": [],
      "mount_file_id": "1kOT0EL41tfQypCNX-soFxhIe-u6uUlQe",
      "authorship_tag": "ABX9TyOBDStLdosxB272LfRAuw7e"
    },
    "kernelspec": {
      "display_name": "Python 3",
      "name": "python3"
    }
  },
  "cells": [
    {
      "cell_type": "markdown",
      "metadata": {
        "id": "usIUfe-vAbHc"
      },
      "source": [
        "# **Introduction**\r\n",
        "This notebok presents a complete ML project inclusing below steps:\r\n",
        "1.   Data understanding\r\n",
        "2.   Data preprocessing\r\n",
        "3.   Feature engineering\r\n",
        "4.   Model selection\r\n",
        "5.   Model deployement\r\n",
        "\r\n",
        "The objective is to predict the probability of default of business loan applicants."
      ]
    },
    {
      "cell_type": "markdown",
      "metadata": {
        "id": "abTEGyR-uqLu"
      },
      "source": [
        "# **Importing libraries and train data**"
      ]
    },
    {
      "cell_type": "code",
      "metadata": {
        "id": "SPVKZI6yuoA2"
      },
      "source": [
        "import pandas as pd\n",
        "import numpy as np\n",
        "import os\n",
        "import matplotlib.pyplot as plt\n",
        "%matplotlib inline\n",
        "\n",
        "from sklearn.model_selection import train_test_split"
      ],
      "execution_count": null,
      "outputs": []
    },
    {
      "cell_type": "code",
      "metadata": {
        "id": "3gFCeimlu-3N"
      },
      "source": [
        "# Import train data\n",
        "data_train = pd.read_excel('/DSC2020_Training.xlsx', index_col='LoanID')"
      ],
      "execution_count": null,
      "outputs": []
    },
    {
      "cell_type": "code",
      "metadata": {
        "colab": {
          "base_uri": "https://localhost:8080/"
        },
        "id": "XBhibF18X1mQ",
        "outputId": "d73db92d-e977-4240-bfaf-c00ede276561"
      },
      "source": [
        "# detailes and charachteristics of data columns:\n",
        "# number of non-null values per column and type of data in every column\n",
        "# \"object\" Dtype means non-numerical data\n",
        "data_train.info()"
      ],
      "execution_count": null,
      "outputs": [
        {
          "output_type": "stream",
          "text": [
            "<class 'pandas.core.frame.DataFrame'>\n",
            "Int64Index: 26962 entries, 1 to 26962\n",
            "Data columns (total 45 columns):\n",
            " #   Column                                 Non-Null Count  Dtype  \n",
            "---  ------                                 --------------  -----  \n",
            " 0   Type                                   26962 non-null  object \n",
            " 1   INDUSTRY_CD_3                          26962 non-null  int64  \n",
            " 2   INDUSTRY_CD_4                          26962 non-null  int64  \n",
            " 3   BEH_SCORE_AVG_A1                       16027 non-null  float64\n",
            " 4   BEH_SCORE_AVG_A2                       16266 non-null  float64\n",
            " 5   BEH_SCORE_MIN_A2                       16266 non-null  float64\n",
            " 6   FHS_SCORE_AVG                          20688 non-null  float64\n",
            " 7   FHS_SCORE_LATEST                       20621 non-null  float64\n",
            " 8   CASH_FLOW_AMT                          20737 non-null  float64\n",
            " 9   FREE_CASH_FLOW_AMT                     86 non-null     float64\n",
            " 10  MTHS_SNC_1ST_REC_CNT                   26773 non-null  float64\n",
            " 11  Managing_Sales_Office_Nbr              12919 non-null  object \n",
            " 12  Postal_Code_L                          13275 non-null  object \n",
            " 13  A1_AVG_POS_SALDO_PROF_1_AMT            21313 non-null  float64\n",
            " 14  Invest_Amt                             23530 non-null  float64\n",
            " 15  Original_loan_Amt                      15719 non-null  float64\n",
            " 16  MTHS_FIRST_PCX_COREPRIV_CNT            1921 non-null   float64\n",
            " 17  Product_Desc                           23714 non-null  object \n",
            " 18  CREDIT_TYPE_CD                         26962 non-null  object \n",
            " 19  ACCOUNT_PURPOSE_CD                     26962 non-null  int64  \n",
            " 20  A2_MONTHS_IN_BELGIUM_CNT               2022 non-null   float64\n",
            " 21  A1_TOT_DEB_INTEREST_PROF_6_AMT         21313 non-null  float64\n",
            " 22  A2_MTHS_SNC_LAST_LIQ_PRIV_CNT          6439 non-null   float64\n",
            " 23  A2_MTHS_SNC_FIRST_COREPROF_CNT         5127 non-null   float64\n",
            " 24  A2_MARITAL_STATUS_CD                   26961 non-null  float64\n",
            " 25  A1_TOT_DEB_INTEREST_PROF_1_AMT         21313 non-null  float64\n",
            " 26  MTHS_IN_BUSINESS_CNT                   25916 non-null  float64\n",
            " 27  A2_MTHS_SNC_LAST_LIQ_SAVE_CNT          11502 non-null  float64\n",
            " 28  A1_NEGAT_TRANS_COREPROF_CNT            21313 non-null  float64\n",
            " 29  FINANCIAL_PRODUCT_TYPE_CD              26962 non-null  object \n",
            " 30  A1_OVERDRAWN_DAYS_PROF_24_CNT          20585 non-null  float64\n",
            " 31  A1_OVERDRAWN_DAYS_PROF_6_CNT           18083 non-null  float64\n",
            " 32  A2_EMPLOYMENT_STATUS_CD                26962 non-null  int64  \n",
            " 33  A1_AVG_NEG_SALDO_PROF_3_AMT            21313 non-null  float64\n",
            " 34  A1_AVG_POS_SALDO_PROF_12_AMT           21313 non-null  float64\n",
            " 35  A2_RESIDENT_STATUS_CD                  26900 non-null  float64\n",
            " 36  A1_TOT_STND_PAYMNT_INT_PROF_CNT        21313 non-null  float64\n",
            " 37  CASHFLOW_MONTHLY_CREDIT_RT             18446 non-null  float64\n",
            " 38  MONTHS_SINCE_LAST_REFUSAL_CNT          3283 non-null   float64\n",
            " 39  MONTHLY_CREDIT_AMT_TOT                 23873 non-null  float64\n",
            " 40  A2_ANNUAL_INCOME_AMT_scale             20585 non-null  float64\n",
            " 41  A2_AVG_NEG_SALDO_PRIV_12_AMT_scale     18454 non-null  float64\n",
            " 42  A2_AVG_POS_SALDO_SAVINGS_12_AMT_scale  16668 non-null  float64\n",
            " 43  A2_TOTAL_EMPLOYMENT_MONTHS_CNT_scale   21282 non-null  float64\n",
            " 44  Label_Default                          26962 non-null  object \n",
            "dtypes: float64(34), int64(4), object(7)\n",
            "memory usage: 9.5+ MB\n"
          ],
          "name": "stdout"
        }
      ]
    },
    {
      "cell_type": "code",
      "metadata": {
        "id": "_o_GfbFOchfx"
      },
      "source": [
        "# the list of columns below are integer value codes but they should not be \n",
        "# considered as numerical variables, so they are transformed to strings\n",
        "\n",
        "transform_str_list = ['INDUSTRY_CD_3', 'INDUSTRY_CD_4', 'A2_MARITAL_STATUS_CD', \n",
        "                      'ACCOUNT_PURPOSE_CD', 'A2_EMPLOYMENT_STATUS_CD', 'A2_RESIDENT_STATUS_CD']\n",
        "\n",
        "data_train[transform_str_list] = data_train[transform_str_list].astype(str)\n",
        "\n",
        "# For retun the possible missing data in these columns\n",
        "data_train.replace(to_replace='nan', value=np.nan, inplace=True)"
      ],
      "execution_count": null,
      "outputs": []
    },
    {
      "cell_type": "code",
      "metadata": {
        "id": "u7gRv6jEc90K"
      },
      "source": [
        "# determining the target variable and features columns\n",
        "target_col = 'Label_Default'\n",
        "feature_cols = data_train.columns.drop('Label_Default')\n",
        "\n",
        "Y = data_train[target_col].copy()\n",
        "# In target variable, replace Y with 1 and N with 0\n",
        "Y.replace({'Y':1, 'N':0}, inplace=True)\n",
        "\n",
        "X = data_train[feature_cols].copy()\n",
        "\n",
        "# determining which variables are numerical and which are categorical\n",
        "num_cols = data_train[feature_cols].select_dtypes(exclude='object').columns\n",
        "cat_cols = data_train[feature_cols].select_dtypes(include='object').columns"
      ],
      "execution_count": null,
      "outputs": []
    },
    {
      "cell_type": "code",
      "metadata": {
        "colab": {
          "base_uri": "https://localhost:8080/",
          "height": 1000
        },
        "id": "lc7M2CtaeK9S",
        "outputId": "31d7c90e-9d2f-43af-b924-9d90b348b7f5"
      },
      "source": [
        "# Summary statistics for numerical features\n",
        "data_train[num_cols].describe().T"
      ],
      "execution_count": null,
      "outputs": [
        {
          "output_type": "execute_result",
          "data": {
            "text/html": [
              "<div>\n",
              "<style scoped>\n",
              "    .dataframe tbody tr th:only-of-type {\n",
              "        vertical-align: middle;\n",
              "    }\n",
              "\n",
              "    .dataframe tbody tr th {\n",
              "        vertical-align: top;\n",
              "    }\n",
              "\n",
              "    .dataframe thead th {\n",
              "        text-align: right;\n",
              "    }\n",
              "</style>\n",
              "<table border=\"1\" class=\"dataframe\">\n",
              "  <thead>\n",
              "    <tr style=\"text-align: right;\">\n",
              "      <th></th>\n",
              "      <th>count</th>\n",
              "      <th>mean</th>\n",
              "      <th>std</th>\n",
              "      <th>min</th>\n",
              "      <th>25%</th>\n",
              "      <th>50%</th>\n",
              "      <th>75%</th>\n",
              "      <th>max</th>\n",
              "    </tr>\n",
              "  </thead>\n",
              "  <tbody>\n",
              "    <tr>\n",
              "      <th>BEH_SCORE_AVG_A1</th>\n",
              "      <td>16027.0</td>\n",
              "      <td>649.449859</td>\n",
              "      <td>45.777164</td>\n",
              "      <td>0.000000e+00</td>\n",
              "      <td>627.000000</td>\n",
              "      <td>654.000000</td>\n",
              "      <td>677.000000</td>\n",
              "      <td>7.570000e+02</td>\n",
              "    </tr>\n",
              "    <tr>\n",
              "      <th>BEH_SCORE_AVG_A2</th>\n",
              "      <td>16266.0</td>\n",
              "      <td>667.979918</td>\n",
              "      <td>37.059500</td>\n",
              "      <td>0.000000e+00</td>\n",
              "      <td>650.000000</td>\n",
              "      <td>676.000000</td>\n",
              "      <td>693.636880</td>\n",
              "      <td>7.570000e+02</td>\n",
              "    </tr>\n",
              "    <tr>\n",
              "      <th>BEH_SCORE_MIN_A2</th>\n",
              "      <td>16266.0</td>\n",
              "      <td>654.969877</td>\n",
              "      <td>43.507769</td>\n",
              "      <td>0.000000e+00</td>\n",
              "      <td>633.000000</td>\n",
              "      <td>665.000000</td>\n",
              "      <td>688.097402</td>\n",
              "      <td>7.570000e+02</td>\n",
              "    </tr>\n",
              "    <tr>\n",
              "      <th>FHS_SCORE_AVG</th>\n",
              "      <td>20688.0</td>\n",
              "      <td>98.046445</td>\n",
              "      <td>4.131621</td>\n",
              "      <td>0.000000e+00</td>\n",
              "      <td>97.935418</td>\n",
              "      <td>98.776561</td>\n",
              "      <td>99.551346</td>\n",
              "      <td>1.000000e+02</td>\n",
              "    </tr>\n",
              "    <tr>\n",
              "      <th>FHS_SCORE_LATEST</th>\n",
              "      <td>20621.0</td>\n",
              "      <td>98.051922</td>\n",
              "      <td>4.203183</td>\n",
              "      <td>0.000000e+00</td>\n",
              "      <td>97.833606</td>\n",
              "      <td>98.781982</td>\n",
              "      <td>99.668726</td>\n",
              "      <td>1.000000e+02</td>\n",
              "    </tr>\n",
              "    <tr>\n",
              "      <th>CASH_FLOW_AMT</th>\n",
              "      <td>20737.0</td>\n",
              "      <td>36693.002604</td>\n",
              "      <td>56340.009716</td>\n",
              "      <td>-2.650520e+05</td>\n",
              "      <td>10244.000000</td>\n",
              "      <td>22042.000000</td>\n",
              "      <td>44981.000000</td>\n",
              "      <td>1.989650e+06</td>\n",
              "    </tr>\n",
              "    <tr>\n",
              "      <th>FREE_CASH_FLOW_AMT</th>\n",
              "      <td>86.0</td>\n",
              "      <td>-2565.883721</td>\n",
              "      <td>150439.777025</td>\n",
              "      <td>-1.295824e+06</td>\n",
              "      <td>-1846.750000</td>\n",
              "      <td>10916.500000</td>\n",
              "      <td>22766.250000</td>\n",
              "      <td>1.946520e+05</td>\n",
              "    </tr>\n",
              "    <tr>\n",
              "      <th>MTHS_SNC_1ST_REC_CNT</th>\n",
              "      <td>26773.0</td>\n",
              "      <td>170.724162</td>\n",
              "      <td>673.324417</td>\n",
              "      <td>0.000000e+00</td>\n",
              "      <td>13.000000</td>\n",
              "      <td>53.000000</td>\n",
              "      <td>119.000000</td>\n",
              "      <td>4.991000e+03</td>\n",
              "    </tr>\n",
              "    <tr>\n",
              "      <th>A1_AVG_POS_SALDO_PROF_1_AMT</th>\n",
              "      <td>21313.0</td>\n",
              "      <td>15015.523818</td>\n",
              "      <td>30494.270595</td>\n",
              "      <td>0.000000e+00</td>\n",
              "      <td>1230.460000</td>\n",
              "      <td>5626.940000</td>\n",
              "      <td>16465.130000</td>\n",
              "      <td>9.274381e+05</td>\n",
              "    </tr>\n",
              "    <tr>\n",
              "      <th>Invest_Amt</th>\n",
              "      <td>23530.0</td>\n",
              "      <td>79451.678463</td>\n",
              "      <td>151898.843992</td>\n",
              "      <td>2.000000e-02</td>\n",
              "      <td>17884.407500</td>\n",
              "      <td>30000.000000</td>\n",
              "      <td>61000.000000</td>\n",
              "      <td>4.297502e+06</td>\n",
              "    </tr>\n",
              "    <tr>\n",
              "      <th>Original_loan_Amt</th>\n",
              "      <td>15719.0</td>\n",
              "      <td>72439.210341</td>\n",
              "      <td>123287.942472</td>\n",
              "      <td>2.500000e+03</td>\n",
              "      <td>16630.295000</td>\n",
              "      <td>29666.000000</td>\n",
              "      <td>65000.000000</td>\n",
              "      <td>2.250000e+06</td>\n",
              "    </tr>\n",
              "    <tr>\n",
              "      <th>MTHS_FIRST_PCX_COREPRIV_CNT</th>\n",
              "      <td>1921.0</td>\n",
              "      <td>78.421135</td>\n",
              "      <td>60.636186</td>\n",
              "      <td>0.000000e+00</td>\n",
              "      <td>25.000000</td>\n",
              "      <td>63.000000</td>\n",
              "      <td>131.000000</td>\n",
              "      <td>2.300000e+02</td>\n",
              "    </tr>\n",
              "    <tr>\n",
              "      <th>A2_MONTHS_IN_BELGIUM_CNT</th>\n",
              "      <td>2022.0</td>\n",
              "      <td>341.323937</td>\n",
              "      <td>200.944764</td>\n",
              "      <td>0.000000e+00</td>\n",
              "      <td>158.000000</td>\n",
              "      <td>338.000000</td>\n",
              "      <td>506.000000</td>\n",
              "      <td>9.090000e+02</td>\n",
              "    </tr>\n",
              "    <tr>\n",
              "      <th>A1_TOT_DEB_INTEREST_PROF_6_AMT</th>\n",
              "      <td>21313.0</td>\n",
              "      <td>1122.275941</td>\n",
              "      <td>4894.862753</td>\n",
              "      <td>0.000000e+00</td>\n",
              "      <td>0.000000</td>\n",
              "      <td>0.360000</td>\n",
              "      <td>124.160000</td>\n",
              "      <td>1.585958e+05</td>\n",
              "    </tr>\n",
              "    <tr>\n",
              "      <th>A2_MTHS_SNC_LAST_LIQ_PRIV_CNT</th>\n",
              "      <td>6439.0</td>\n",
              "      <td>61.877155</td>\n",
              "      <td>50.829338</td>\n",
              "      <td>0.000000e+00</td>\n",
              "      <td>21.000000</td>\n",
              "      <td>49.000000</td>\n",
              "      <td>91.000000</td>\n",
              "      <td>2.490000e+02</td>\n",
              "    </tr>\n",
              "    <tr>\n",
              "      <th>A2_MTHS_SNC_FIRST_COREPROF_CNT</th>\n",
              "      <td>5127.0</td>\n",
              "      <td>142.050907</td>\n",
              "      <td>93.379333</td>\n",
              "      <td>1.000000e+00</td>\n",
              "      <td>63.000000</td>\n",
              "      <td>133.000000</td>\n",
              "      <td>207.000000</td>\n",
              "      <td>4.730000e+02</td>\n",
              "    </tr>\n",
              "    <tr>\n",
              "      <th>A1_TOT_DEB_INTEREST_PROF_1_AMT</th>\n",
              "      <td>21313.0</td>\n",
              "      <td>197.355663</td>\n",
              "      <td>947.488748</td>\n",
              "      <td>0.000000e+00</td>\n",
              "      <td>0.000000</td>\n",
              "      <td>0.000000</td>\n",
              "      <td>15.420000</td>\n",
              "      <td>3.427748e+04</td>\n",
              "    </tr>\n",
              "    <tr>\n",
              "      <th>MTHS_IN_BUSINESS_CNT</th>\n",
              "      <td>25916.0</td>\n",
              "      <td>123.879148</td>\n",
              "      <td>129.988839</td>\n",
              "      <td>0.000000e+00</td>\n",
              "      <td>33.000000</td>\n",
              "      <td>90.000000</td>\n",
              "      <td>184.000000</td>\n",
              "      <td>3.180000e+03</td>\n",
              "    </tr>\n",
              "    <tr>\n",
              "      <th>A2_MTHS_SNC_LAST_LIQ_SAVE_CNT</th>\n",
              "      <td>11502.0</td>\n",
              "      <td>46.409668</td>\n",
              "      <td>45.896668</td>\n",
              "      <td>0.000000e+00</td>\n",
              "      <td>12.000000</td>\n",
              "      <td>31.000000</td>\n",
              "      <td>67.000000</td>\n",
              "      <td>2.490000e+02</td>\n",
              "    </tr>\n",
              "    <tr>\n",
              "      <th>A1_NEGAT_TRANS_COREPROF_CNT</th>\n",
              "      <td>21313.0</td>\n",
              "      <td>35.159855</td>\n",
              "      <td>37.115842</td>\n",
              "      <td>0.000000e+00</td>\n",
              "      <td>9.000000</td>\n",
              "      <td>26.000000</td>\n",
              "      <td>48.000000</td>\n",
              "      <td>4.750000e+02</td>\n",
              "    </tr>\n",
              "    <tr>\n",
              "      <th>A1_OVERDRAWN_DAYS_PROF_24_CNT</th>\n",
              "      <td>20585.0</td>\n",
              "      <td>5.494146</td>\n",
              "      <td>33.007985</td>\n",
              "      <td>0.000000e+00</td>\n",
              "      <td>0.000000</td>\n",
              "      <td>0.000000</td>\n",
              "      <td>0.000000</td>\n",
              "      <td>7.300000e+02</td>\n",
              "    </tr>\n",
              "    <tr>\n",
              "      <th>A1_OVERDRAWN_DAYS_PROF_6_CNT</th>\n",
              "      <td>18083.0</td>\n",
              "      <td>2.461704</td>\n",
              "      <td>14.098576</td>\n",
              "      <td>0.000000e+00</td>\n",
              "      <td>0.000000</td>\n",
              "      <td>0.000000</td>\n",
              "      <td>0.000000</td>\n",
              "      <td>1.850000e+02</td>\n",
              "    </tr>\n",
              "    <tr>\n",
              "      <th>A1_AVG_NEG_SALDO_PROF_3_AMT</th>\n",
              "      <td>21313.0</td>\n",
              "      <td>2811.626735</td>\n",
              "      <td>11792.999781</td>\n",
              "      <td>0.000000e+00</td>\n",
              "      <td>0.000000</td>\n",
              "      <td>0.130000</td>\n",
              "      <td>214.730000</td>\n",
              "      <td>3.046392e+05</td>\n",
              "    </tr>\n",
              "    <tr>\n",
              "      <th>A1_AVG_POS_SALDO_PROF_12_AMT</th>\n",
              "      <td>21313.0</td>\n",
              "      <td>14132.803871</td>\n",
              "      <td>27150.218401</td>\n",
              "      <td>0.000000e+00</td>\n",
              "      <td>1424.560000</td>\n",
              "      <td>5664.480000</td>\n",
              "      <td>15794.150000</td>\n",
              "      <td>8.838726e+05</td>\n",
              "    </tr>\n",
              "    <tr>\n",
              "      <th>A1_TOT_STND_PAYMNT_INT_PROF_CNT</th>\n",
              "      <td>21313.0</td>\n",
              "      <td>0.745883</td>\n",
              "      <td>1.678305</td>\n",
              "      <td>0.000000e+00</td>\n",
              "      <td>0.000000</td>\n",
              "      <td>0.000000</td>\n",
              "      <td>1.000000</td>\n",
              "      <td>3.500000e+01</td>\n",
              "    </tr>\n",
              "    <tr>\n",
              "      <th>CASHFLOW_MONTHLY_CREDIT_RT</th>\n",
              "      <td>18446.0</td>\n",
              "      <td>62.791555</td>\n",
              "      <td>99.583901</td>\n",
              "      <td>-1.966635e+02</td>\n",
              "      <td>13.321711</td>\n",
              "      <td>33.352599</td>\n",
              "      <td>72.683302</td>\n",
              "      <td>3.062448e+03</td>\n",
              "    </tr>\n",
              "    <tr>\n",
              "      <th>MONTHS_SINCE_LAST_REFUSAL_CNT</th>\n",
              "      <td>3283.0</td>\n",
              "      <td>57.309778</td>\n",
              "      <td>48.520518</td>\n",
              "      <td>1.000000e+00</td>\n",
              "      <td>16.000000</td>\n",
              "      <td>43.000000</td>\n",
              "      <td>90.000000</td>\n",
              "      <td>2.140000e+02</td>\n",
              "    </tr>\n",
              "    <tr>\n",
              "      <th>MONTHLY_CREDIT_AMT_TOT</th>\n",
              "      <td>23873.0</td>\n",
              "      <td>1145.659939</td>\n",
              "      <td>2683.956807</td>\n",
              "      <td>4.166667e+01</td>\n",
              "      <td>383.333333</td>\n",
              "      <td>633.333333</td>\n",
              "      <td>1249.333333</td>\n",
              "      <td>1.433333e+05</td>\n",
              "    </tr>\n",
              "    <tr>\n",
              "      <th>A2_ANNUAL_INCOME_AMT_scale</th>\n",
              "      <td>20585.0</td>\n",
              "      <td>-0.011440</td>\n",
              "      <td>1.012053</td>\n",
              "      <td>-8.368719e-01</td>\n",
              "      <td>-0.342147</td>\n",
              "      <td>-0.128019</td>\n",
              "      <td>0.144300</td>\n",
              "      <td>7.186598e+01</td>\n",
              "    </tr>\n",
              "    <tr>\n",
              "      <th>A2_AVG_NEG_SALDO_PRIV_12_AMT_scale</th>\n",
              "      <td>18454.0</td>\n",
              "      <td>0.007104</td>\n",
              "      <td>1.072080</td>\n",
              "      <td>-1.910037e-01</td>\n",
              "      <td>-0.191004</td>\n",
              "      <td>-0.179948</td>\n",
              "      <td>-0.050423</td>\n",
              "      <td>9.448275e+01</td>\n",
              "    </tr>\n",
              "    <tr>\n",
              "      <th>A2_AVG_POS_SALDO_SAVINGS_12_AMT_scale</th>\n",
              "      <td>16668.0</td>\n",
              "      <td>-0.019356</td>\n",
              "      <td>0.933199</td>\n",
              "      <td>-4.647899e-01</td>\n",
              "      <td>-0.437646</td>\n",
              "      <td>-0.318039</td>\n",
              "      <td>0.031481</td>\n",
              "      <td>3.026865e+01</td>\n",
              "    </tr>\n",
              "    <tr>\n",
              "      <th>A2_TOTAL_EMPLOYMENT_MONTHS_CNT_scale</th>\n",
              "      <td>21282.0</td>\n",
              "      <td>-0.011575</td>\n",
              "      <td>0.986212</td>\n",
              "      <td>-1.527919e+00</td>\n",
              "      <td>-0.774260</td>\n",
              "      <td>-0.187106</td>\n",
              "      <td>0.592843</td>\n",
              "      <td>1.014503e+01</td>\n",
              "    </tr>\n",
              "  </tbody>\n",
              "</table>\n",
              "</div>"
            ],
            "text/plain": [
              "                                         count  ...           max\n",
              "BEH_SCORE_AVG_A1                       16027.0  ...  7.570000e+02\n",
              "BEH_SCORE_AVG_A2                       16266.0  ...  7.570000e+02\n",
              "BEH_SCORE_MIN_A2                       16266.0  ...  7.570000e+02\n",
              "FHS_SCORE_AVG                          20688.0  ...  1.000000e+02\n",
              "FHS_SCORE_LATEST                       20621.0  ...  1.000000e+02\n",
              "CASH_FLOW_AMT                          20737.0  ...  1.989650e+06\n",
              "FREE_CASH_FLOW_AMT                        86.0  ...  1.946520e+05\n",
              "MTHS_SNC_1ST_REC_CNT                   26773.0  ...  4.991000e+03\n",
              "A1_AVG_POS_SALDO_PROF_1_AMT            21313.0  ...  9.274381e+05\n",
              "Invest_Amt                             23530.0  ...  4.297502e+06\n",
              "Original_loan_Amt                      15719.0  ...  2.250000e+06\n",
              "MTHS_FIRST_PCX_COREPRIV_CNT             1921.0  ...  2.300000e+02\n",
              "A2_MONTHS_IN_BELGIUM_CNT                2022.0  ...  9.090000e+02\n",
              "A1_TOT_DEB_INTEREST_PROF_6_AMT         21313.0  ...  1.585958e+05\n",
              "A2_MTHS_SNC_LAST_LIQ_PRIV_CNT           6439.0  ...  2.490000e+02\n",
              "A2_MTHS_SNC_FIRST_COREPROF_CNT          5127.0  ...  4.730000e+02\n",
              "A1_TOT_DEB_INTEREST_PROF_1_AMT         21313.0  ...  3.427748e+04\n",
              "MTHS_IN_BUSINESS_CNT                   25916.0  ...  3.180000e+03\n",
              "A2_MTHS_SNC_LAST_LIQ_SAVE_CNT          11502.0  ...  2.490000e+02\n",
              "A1_NEGAT_TRANS_COREPROF_CNT            21313.0  ...  4.750000e+02\n",
              "A1_OVERDRAWN_DAYS_PROF_24_CNT          20585.0  ...  7.300000e+02\n",
              "A1_OVERDRAWN_DAYS_PROF_6_CNT           18083.0  ...  1.850000e+02\n",
              "A1_AVG_NEG_SALDO_PROF_3_AMT            21313.0  ...  3.046392e+05\n",
              "A1_AVG_POS_SALDO_PROF_12_AMT           21313.0  ...  8.838726e+05\n",
              "A1_TOT_STND_PAYMNT_INT_PROF_CNT        21313.0  ...  3.500000e+01\n",
              "CASHFLOW_MONTHLY_CREDIT_RT             18446.0  ...  3.062448e+03\n",
              "MONTHS_SINCE_LAST_REFUSAL_CNT           3283.0  ...  2.140000e+02\n",
              "MONTHLY_CREDIT_AMT_TOT                 23873.0  ...  1.433333e+05\n",
              "A2_ANNUAL_INCOME_AMT_scale             20585.0  ...  7.186598e+01\n",
              "A2_AVG_NEG_SALDO_PRIV_12_AMT_scale     18454.0  ...  9.448275e+01\n",
              "A2_AVG_POS_SALDO_SAVINGS_12_AMT_scale  16668.0  ...  3.026865e+01\n",
              "A2_TOTAL_EMPLOYMENT_MONTHS_CNT_scale   21282.0  ...  1.014503e+01\n",
              "\n",
              "[32 rows x 8 columns]"
            ]
          },
          "metadata": {
            "tags": []
          },
          "execution_count": 7
        }
      ]
    },
    {
      "cell_type": "code",
      "metadata": {
        "colab": {
          "base_uri": "https://localhost:8080/",
          "height": 421
        },
        "id": "dyALYWACeMyi",
        "outputId": "8b0d5d3a-31d1-4a8e-f008-bc352652a869"
      },
      "source": [
        "data_train[cat_cols].describe().T"
      ],
      "execution_count": null,
      "outputs": [
        {
          "output_type": "execute_result",
          "data": {
            "text/html": [
              "<div>\n",
              "<style scoped>\n",
              "    .dataframe tbody tr th:only-of-type {\n",
              "        vertical-align: middle;\n",
              "    }\n",
              "\n",
              "    .dataframe tbody tr th {\n",
              "        vertical-align: top;\n",
              "    }\n",
              "\n",
              "    .dataframe thead th {\n",
              "        text-align: right;\n",
              "    }\n",
              "</style>\n",
              "<table border=\"1\" class=\"dataframe\">\n",
              "  <thead>\n",
              "    <tr style=\"text-align: right;\">\n",
              "      <th></th>\n",
              "      <th>count</th>\n",
              "      <th>unique</th>\n",
              "      <th>top</th>\n",
              "      <th>freq</th>\n",
              "    </tr>\n",
              "  </thead>\n",
              "  <tbody>\n",
              "    <tr>\n",
              "      <th>Type</th>\n",
              "      <td>26962</td>\n",
              "      <td>2</td>\n",
              "      <td>Company_Known</td>\n",
              "      <td>25125</td>\n",
              "    </tr>\n",
              "    <tr>\n",
              "      <th>INDUSTRY_CD_3</th>\n",
              "      <td>26962</td>\n",
              "      <td>212</td>\n",
              "      <td>662</td>\n",
              "      <td>2539</td>\n",
              "    </tr>\n",
              "    <tr>\n",
              "      <th>INDUSTRY_CD_4</th>\n",
              "      <td>26962</td>\n",
              "      <td>419</td>\n",
              "      <td>6622</td>\n",
              "      <td>2460</td>\n",
              "    </tr>\n",
              "    <tr>\n",
              "      <th>Managing_Sales_Office_Nbr</th>\n",
              "      <td>12919</td>\n",
              "      <td>1377</td>\n",
              "      <td>0a02c9ca</td>\n",
              "      <td>130</td>\n",
              "    </tr>\n",
              "    <tr>\n",
              "      <th>Postal_Code_L</th>\n",
              "      <td>13275</td>\n",
              "      <td>909</td>\n",
              "      <td>70902458</td>\n",
              "      <td>136</td>\n",
              "    </tr>\n",
              "    <tr>\n",
              "      <th>Product_Desc</th>\n",
              "      <td>23714</td>\n",
              "      <td>8</td>\n",
              "      <td>Bizness financiering</td>\n",
              "      <td>15890</td>\n",
              "    </tr>\n",
              "    <tr>\n",
              "      <th>CREDIT_TYPE_CD</th>\n",
              "      <td>26962</td>\n",
              "      <td>2</td>\n",
              "      <td>IK</td>\n",
              "      <td>23878</td>\n",
              "    </tr>\n",
              "    <tr>\n",
              "      <th>ACCOUNT_PURPOSE_CD</th>\n",
              "      <td>26962</td>\n",
              "      <td>57</td>\n",
              "      <td>65</td>\n",
              "      <td>9680</td>\n",
              "    </tr>\n",
              "    <tr>\n",
              "      <th>A2_MARITAL_STATUS_CD</th>\n",
              "      <td>26961</td>\n",
              "      <td>5</td>\n",
              "      <td>2.0</td>\n",
              "      <td>16541</td>\n",
              "    </tr>\n",
              "    <tr>\n",
              "      <th>FINANCIAL_PRODUCT_TYPE_CD</th>\n",
              "      <td>26962</td>\n",
              "      <td>2</td>\n",
              "      <td>MTG</td>\n",
              "      <td>23878</td>\n",
              "    </tr>\n",
              "    <tr>\n",
              "      <th>A2_EMPLOYMENT_STATUS_CD</th>\n",
              "      <td>26962</td>\n",
              "      <td>34</td>\n",
              "      <td>410</td>\n",
              "      <td>6371</td>\n",
              "    </tr>\n",
              "    <tr>\n",
              "      <th>A2_RESIDENT_STATUS_CD</th>\n",
              "      <td>26900</td>\n",
              "      <td>4</td>\n",
              "      <td>1.0</td>\n",
              "      <td>22793</td>\n",
              "    </tr>\n",
              "  </tbody>\n",
              "</table>\n",
              "</div>"
            ],
            "text/plain": [
              "                           count unique                   top   freq\n",
              "Type                       26962      2         Company_Known  25125\n",
              "INDUSTRY_CD_3              26962    212                   662   2539\n",
              "INDUSTRY_CD_4              26962    419                  6622   2460\n",
              "Managing_Sales_Office_Nbr  12919   1377              0a02c9ca    130\n",
              "Postal_Code_L              13275    909              70902458    136\n",
              "Product_Desc               23714      8  Bizness financiering  15890\n",
              "CREDIT_TYPE_CD             26962      2                    IK  23878\n",
              "ACCOUNT_PURPOSE_CD         26962     57                    65   9680\n",
              "A2_MARITAL_STATUS_CD       26961      5                   2.0  16541\n",
              "FINANCIAL_PRODUCT_TYPE_CD  26962      2                   MTG  23878\n",
              "A2_EMPLOYMENT_STATUS_CD    26962     34                   410   6371\n",
              "A2_RESIDENT_STATUS_CD      26900      4                   1.0  22793"
            ]
          },
          "metadata": {
            "tags": []
          },
          "execution_count": 8
        }
      ]
    },
    {
      "cell_type": "code",
      "metadata": {
        "colab": {
          "base_uri": "https://localhost:8080/"
        },
        "id": "zKjEKIniei3C",
        "outputId": "3b9a6968-3ee1-46c6-ea3a-418e909c65e8"
      },
      "source": [
        "data_train[target_col].value_counts()"
      ],
      "execution_count": null,
      "outputs": [
        {
          "output_type": "execute_result",
          "data": {
            "text/plain": [
              "N    26168\n",
              "Y      794\n",
              "Name: Label_Default, dtype: int64"
            ]
          },
          "metadata": {
            "tags": []
          },
          "execution_count": 9
        }
      ]
    },
    {
      "cell_type": "code",
      "metadata": {
        "id": "_r7IY1TZfJU9"
      },
      "source": [
        "# Split the data into train and test\n",
        "train_ind, test_ind = train_test_split(data_train.index, test_size = 0.2, random_state=1)"
      ],
      "execution_count": null,
      "outputs": []
    },
    {
      "cell_type": "markdown",
      "metadata": {
        "id": "HPFfA8m2jTnp"
      },
      "source": [
        "# **Handling missing values**"
      ]
    },
    {
      "cell_type": "code",
      "metadata": {
        "id": "7nUOyI_ngFSA"
      },
      "source": [
        "# % of data missing in every column\n",
        "pcnt_missing_all = (X.isna().sum()/X.shape[0])*100\n",
        "\n",
        "# % of data missing in numerical columns\n",
        "pcnt_missing_num = (X[num_cols].isna().sum()/X.shape[0])*100\n",
        "\n",
        "# % of data missing in categorical columns\n",
        "pcnt_missing_cat = (X[cat_cols].isna().sum()/X.shape[0])*100"
      ],
      "execution_count": null,
      "outputs": []
    },
    {
      "cell_type": "code",
      "metadata": {
        "colab": {
          "base_uri": "https://localhost:8080/"
        },
        "id": "78EfCRz8_Udk",
        "outputId": "14bc7e9b-d2df-42e7-c8d0-320ce7d156d2"
      },
      "source": [
        "# drop columns with more than 90% missing values from train, validation and test sets\n",
        "drop_cols = pcnt_missing_all[pcnt_missing_all>=90].index\n",
        "drop_cols"
      ],
      "execution_count": null,
      "outputs": [
        {
          "output_type": "execute_result",
          "data": {
            "text/plain": [
              "Index(['FREE_CASH_FLOW_AMT', 'MTHS_FIRST_PCX_COREPRIV_CNT',\n",
              "       'A2_MONTHS_IN_BELGIUM_CNT'],\n",
              "      dtype='object')"
            ]
          },
          "metadata": {
            "tags": []
          },
          "execution_count": 16
        }
      ]
    },
    {
      "cell_type": "code",
      "metadata": {
        "id": "zBkharabHLhi"
      },
      "source": [
        "# create empty DataFrames for preprocessed train and test data\n",
        "X_train = pd.DataFrame(index=train_ind)\n",
        "X_test = pd.DataFrame(index=test_ind)"
      ],
      "execution_count": null,
      "outputs": []
    },
    {
      "cell_type": "code",
      "metadata": {
        "id": "AocJxe_YA6Sl"
      },
      "source": [
        "# for columns with more than 50% and less than 90% missing values\n",
        "# replace existing values with 0 and missing values (NaN) with 1\n",
        "\n",
        "for col in pcnt_missing_all.index:\n",
        "  if pcnt_missing_all[col] >= 50 and pcnt_missing_all[col] < 90:\n",
        "    X_train[col] = X.loc[train_ind, col].isna().astype(int)\n",
        "    X_test[col] = X.loc[test_ind, col].isna().astype(int)"
      ],
      "execution_count": null,
      "outputs": []
    },
    {
      "cell_type": "code",
      "metadata": {
        "id": "kcyWyJRBA7gc"
      },
      "source": [
        "# for numerical columns with less than 50% missing data,\n",
        "# replace NaN in train and test sets with average value of train set\n",
        "\n",
        "for col in pcnt_missing_num.index:\n",
        "  if pcnt_missing_num[col] < 50:\n",
        "    mean_value = X.loc[train_ind, col].mean()\n",
        "    X_train[col] = X.loc[train_ind, col].fillna(value=mean_value)\n",
        "    X_test[col] = X.loc[test_ind, col].fillna(value=mean_value)"
      ],
      "execution_count": null,
      "outputs": []
    },
    {
      "cell_type": "code",
      "metadata": {
        "id": "uYLaY6IJKOF4"
      },
      "source": [
        "# for categorical columns with less than 50% missing data,\n",
        "# replace NaN in train and test sets with most frequent value of train set\n",
        "\n",
        "for col in pcnt_missing_cat.index:\n",
        "  if pcnt_missing_cat[col] < 50:\n",
        "    freq_value = X.loc[train_ind, col].mode()[0]\n",
        "    X_train[col] = X.loc[train_ind, col].fillna(value=freq_value)\n",
        "    X_test[col] = X.loc[test_ind, col].fillna(value=freq_value)"
      ],
      "execution_count": null,
      "outputs": []
    },
    {
      "cell_type": "markdown",
      "metadata": {
        "id": "nk9PFnwerXa3"
      },
      "source": [
        "# **Dummy encoding**"
      ]
    },
    {
      "cell_type": "code",
      "metadata": {
        "colab": {
          "base_uri": "https://localhost:8080/"
        },
        "id": "xrA60Qeprf0U",
        "outputId": "10a2bec7-d9b0-4e3e-cb37-60207b87ae29"
      },
      "source": [
        "# nunique() counts the number of unique value per column of data\n",
        "X[cat_cols].nunique()"
      ],
      "execution_count": null,
      "outputs": [
        {
          "output_type": "execute_result",
          "data": {
            "text/plain": [
              "Type                            2\n",
              "INDUSTRY_CD_3                 212\n",
              "INDUSTRY_CD_4                 419\n",
              "Managing_Sales_Office_Nbr    1377\n",
              "Postal_Code_L                 909\n",
              "Product_Desc                    8\n",
              "CREDIT_TYPE_CD                  2\n",
              "ACCOUNT_PURPOSE_CD             57\n",
              "A2_MARITAL_STATUS_CD            5\n",
              "FINANCIAL_PRODUCT_TYPE_CD       2\n",
              "A2_EMPLOYMENT_STATUS_CD        34\n",
              "A2_RESIDENT_STATUS_CD           4\n",
              "dtype: int64"
            ]
          },
          "metadata": {
            "tags": []
          },
          "execution_count": 23
        }
      ]
    },
    {
      "cell_type": "code",
      "metadata": {
        "id": "0EHohwBbz4zW"
      },
      "source": [
        "# Create dummy variables for features with less than 10 unique values\n",
        "cnt_unique = X[cat_cols].nunique()"
      ],
      "execution_count": null,
      "outputs": []
    },
    {
      "cell_type": "code",
      "metadata": {
        "id": "QPHNgHkJru4w"
      },
      "source": [
        "# join the dummy variables created for every categorical column to training and test data\n",
        "\n",
        "for col in cnt_unique[cnt_unique < 10].index:\n",
        "  X_train = X_train.join(pd.get_dummies(X.loc[train_ind, col], prefix=col[:5]))\n",
        "  X_train.drop(columns=col, inplace=True)\n",
        "\n",
        "  X_test = X_test.join(pd.get_dummies(X.loc[test_ind, col], prefix=col[:5]))\n",
        "  X_test.drop(columns=col, inplace=True)"
      ],
      "execution_count": null,
      "outputs": []
    },
    {
      "cell_type": "markdown",
      "metadata": {
        "id": "5UTvL7SoGxba"
      },
      "source": [
        "## **High Cardinality categorical variables**"
      ]
    },
    {
      "cell_type": "code",
      "metadata": {
        "id": "6f3eSzbXHVnG"
      },
      "source": [
        "# transform \"ACCOUNT_PURPOSE_CD\" and \"A2_EMPLOYMENT_STATUS_CD\" into percentage frequency\n",
        "HCardinals = ['ACCOUNT_PURPOSE_CD', 'A2_EMPLOYMENT_STATUS_CD']\n",
        "\n",
        "for col in HCardinals: \n",
        "  X_train[col]= X.loc[train_ind].groupby(col)[col].transform('count')/len(train_ind)\n",
        "  d = dict(zip(X.loc[train_ind, col], X_train[col]))\n",
        "  for i in list(set(X.loc[test_ind, col].unique()) - set(X.loc[train_ind, col].unique())):\n",
        "    d[i] = 0\n",
        "  \n",
        "  X_test[col] = X.loc[test_ind, col].replace(d)"
      ],
      "execution_count": null,
      "outputs": []
    },
    {
      "cell_type": "code",
      "metadata": {
        "colab": {
          "base_uri": "https://localhost:8080/"
        },
        "id": "BSASRLVk0XFf",
        "outputId": "e2a83ad5-ebde-4ab0-ac1b-31bd92d75356"
      },
      "source": [
        "# Drop \"INDUSTRY_CD_3\" and \"INDUSTRY_CD_4\" columns from the data\n",
        "drop = X_train.select_dtypes(include='object').columns\n",
        "\n",
        "X_train.drop(columns=drop, inplace=True)\n",
        "X_test.drop(columns=drop, inplace=True)\n",
        "\n",
        "# add to droped columns list for future use\n",
        "drop_cols = drop_cols.append(drop)\n",
        "drop_cols"
      ],
      "execution_count": null,
      "outputs": [
        {
          "output_type": "execute_result",
          "data": {
            "text/plain": [
              "Index(['FREE_CASH_FLOW_AMT', 'MTHS_FIRST_PCX_COREPRIV_CNT',\n",
              "       'A2_MONTHS_IN_BELGIUM_CNT', 'INDUSTRY_CD_3', 'INDUSTRY_CD_4'],\n",
              "      dtype='object')"
            ]
          },
          "metadata": {
            "tags": []
          },
          "execution_count": 29
        }
      ]
    },
    {
      "cell_type": "markdown",
      "metadata": {
        "id": "yo6uF2iv52Up"
      },
      "source": [
        "# **Processing numerical variables**"
      ]
    },
    {
      "cell_type": "code",
      "metadata": {
        "id": "pxBXsWHYD5h9"
      },
      "source": [
        "def Preprocessing_continuous(Var, Var_train):\n",
        "    \n",
        "    \"\"\"\n",
        "    Args:\n",
        "        Var: represents the single variable you wish to preprocess,\n",
        "        should be a numerical variable. Make sure the data type is \"Series\".\n",
        "        Var_train: the training data\n",
        "    \"\"\"\n",
        "    Var_train_mean = np.mean(Var_train) \n",
        "    Var_train_std = np.std(Var_train) \n",
        "        \n",
        "    #Standardize variable\n",
        "    Var_preprocessed = (Var-Var_train_mean)/Var_train_std\n",
        "    \n",
        "    #Deal with outliers\n",
        "    j=0 #start with first instance\n",
        "    for i in Var_preprocessed:\n",
        "        if (i>3): \n",
        "            Var_preprocessed.iloc[j] = 3\n",
        "        elif (i<-3):\n",
        "            Var_preprocessed.iloc[j] = -3\n",
        "        j+=1 \n",
        "    \n",
        "    return(Var_preprocessed)"
      ],
      "execution_count": null,
      "outputs": []
    },
    {
      "cell_type": "code",
      "metadata": {
        "id": "yfxII0_05odd"
      },
      "source": [
        "num_cols = num_cols.drop(drop_cols, errors='ignore')\n",
        "cat_cols = cat_cols.drop(drop_cols, errors='ignore')"
      ],
      "execution_count": null,
      "outputs": []
    },
    {
      "cell_type": "code",
      "metadata": {
        "id": "KjzUfphRzH6t"
      },
      "source": [
        "# choose which columns to be standardized \n",
        "max_min = X_train[num_cols].max()-X_train[num_cols].min()\n",
        "norm_cols = max_min[max_min > 1].index\n",
        "\n",
        "for col in norm_cols:\n",
        "  X_train[col] = Preprocessing_continuous(X_train[col], X_train[col])\n",
        "  X_test[col] = Preprocessing_continuous(X_test[col], X_train[col])"
      ],
      "execution_count": null,
      "outputs": []
    },
    {
      "cell_type": "markdown",
      "metadata": {
        "id": "uRaPioVm4YR7"
      },
      "source": [
        "# **Model Selection**"
      ]
    },
    {
      "cell_type": "code",
      "metadata": {
        "id": "rpAedKz131jx"
      },
      "source": [
        "# Import models\n",
        "from sklearn.neighbors import KNeighborsClassifier\n",
        "from sklearn.tree import DecisionTreeClassifier\n",
        "from sklearn.linear_model import LogisticRegression\n",
        "from sklearn.svm import LinearSVC, SVC\n",
        "from sklearn.ensemble import RandomForestClassifier\n",
        "\n",
        "# Import evaluation metrices\n",
        "from sklearn.metrics import accuracy_score, roc_auc_score\n",
        "\n",
        "from sklearn.model_selection import GridSearchCV"
      ],
      "execution_count": null,
      "outputs": []
    },
    {
      "cell_type": "code",
      "metadata": {
        "id": "oBvugru84mSm"
      },
      "source": [
        "def data_prep_func(Data, Y, num_columns=num_cols, cat_columns=cat_cols, norm_columns=norm_cols,\n",
        "                   test_size=0.2, random_state=1):\n",
        "  \"\"\"\n",
        "  This function performs all the data preprocessing steps on the data\n",
        "\n",
        "  Data: the raw training data including all data features that are going to be \n",
        "    considered (columns that are not going to be used should be droped)\n",
        "  Y: Target variable\n",
        "  num_columns: list of numerical columns\n",
        "  cat_columns: list of categorical columns\n",
        "  norm_columns: list of numerical columns to be normalized\n",
        "  test_size: proportion of data splitted for test data\n",
        "  \"\"\"\n",
        "\n",
        "  # Split the data into train and test\n",
        "  train_ind, test_ind = train_test_split(Data.index, test_size=test_size, random_state=random_state)\n",
        "\n",
        "  X_train = pd.DataFrame(index=train_ind)\n",
        "  X_test = pd.DataFrame(index=test_ind)\n",
        "\n",
        "  Y_train = Y[train_ind]\n",
        "  Y_test = Y[test_ind]\n",
        "\n",
        "  # Handling missing values\n",
        "  pcnt_missing_all = (Data.isna().sum()/Data.shape[0])*100\n",
        "  pcnt_missing_num = (Data[num_cols].isna().sum()/Data.shape[0])*100\n",
        "  pcnt_missing_cat = (Data[cat_cols].isna().sum()/Data.shape[0])*100\n",
        "\n",
        "  for col in pcnt_missing_all.index:\n",
        "    if pcnt_missing_all[col] >= 50 and pcnt_missing_all[col] < 90:\n",
        "      X_train[col] = Data.loc[train_ind, col].isna().astype(int)\n",
        "      X_test[col] = Data.loc[test_ind, col].isna().astype(int)\n",
        "\n",
        "  for col in pcnt_missing_num.index:\n",
        "    if pcnt_missing_num[col] < 50:\n",
        "      mean_value = Data.loc[train_ind, col].mean()\n",
        "      X_train[col] = Data.loc[train_ind, col].fillna(value=mean_value)\n",
        "      X_test[col] = Data.loc[test_ind, col].fillna(value=mean_value)\n",
        "\n",
        "  for col in pcnt_missing_cat.index:\n",
        "    if pcnt_missing_cat[col] < 50:\n",
        "      freq_value = Data.loc[train_ind, col].mode()[0]\n",
        "      X_train[col] = Data.loc[train_ind, col].fillna(value=freq_value)\n",
        "      X_test[col] = Data.loc[test_ind, col].fillna(value=freq_value)\n",
        "\n",
        "  # Preprocessing Categorical Variabes\n",
        "  cnt_unique = X_train.select_dtypes(include='object').nunique()\n",
        "\n",
        "  for col in cnt_unique[cnt_unique <= 10].index:\n",
        "    X_train = X_train.join(pd.get_dummies(Data.loc[train_ind, col], prefix=col[:5]))\n",
        "    X_train.drop(columns=col, inplace=True)\n",
        "    X_test = X_test.join(pd.get_dummies(Data.loc[test_ind, col], prefix=col[:5]))\n",
        "    X_test.drop(columns=col, inplace=True)\n",
        "\n",
        "  HCardinals = cnt_unique[cnt_unique > 10].index\n",
        "  for col in HCardinals: \n",
        "    X_train[col]= Data.loc[train_ind].groupby(col)[col].transform('count')/len(train_ind)\n",
        "    d = dict(zip(Data.loc[train_ind, col], X_train[col]))\n",
        "    for i in list(set(Data.loc[test_ind, col].unique()) - set(Data.loc[train_ind, col].unique())):\n",
        "      d[i] = 0\n",
        "    X_test[col] = Data.loc[test_ind, col].replace(d)\n",
        "\n",
        "  # Preprocessing numerical variables\n",
        "#  for col in norm_columns:\n",
        "#    X_train[col] = Preprocessing_continuous(X_train[col], X_train[col])\n",
        "#    X_test[col] = Preprocessing_continuous(X_test[col], X_train[col])\n",
        "\n",
        "  return X_train, Y_train, X_test, Y_test"
      ],
      "execution_count": null,
      "outputs": []
    },
    {
      "cell_type": "code",
      "metadata": {
        "id": "1AKoDWbdkKYY"
      },
      "source": [
        "X = X.drop(columns=drop_cols)"
      ],
      "execution_count": null,
      "outputs": []
    },
    {
      "cell_type": "code",
      "metadata": {
        "colab": {
          "base_uri": "https://localhost:8080/"
        },
        "id": "oFLIGrPvBQ8V",
        "outputId": "d72fed82-5cb0-40a8-cf97-36d3e8a353f9"
      },
      "source": [
        "# KNeighborsClassifier model\n",
        "x_train, y_train, x_test, y_test = data_prep_func(X, Y)\n",
        "model_KNN = KNeighborsClassifier()\n",
        "params_KNN = {'n_neighbors': np.arange(70, 91, 2)}\n",
        "CV_KNN = GridSearchCV(model_KNN, param_grid=params_KNN, scoring='roc_auc', cv=5, n_jobs=-1)\n",
        "CV_KNN.fit(x_train, y_train)\n",
        "predictions = CV_KNN.predict_proba(x_test)[:,1]\n",
        "baseline_AUC = roc_auc_score(y_test, predictions)\n",
        "best_param_KNN = CV_KNN.best_params_\n",
        "print('The performance of the baseline model is: {:.3f}'.format(baseline_AUC))\n",
        "print('\\nBest parameter of the baseline model is: {}'.format(best_param_KNN))"
      ],
      "execution_count": null,
      "outputs": [
        {
          "output_type": "stream",
          "text": [
            "The performance of the baseline model is: 0.688\n",
            "\n",
            "Best parameter of the baseline model is: {'n_neighbors': 82}\n"
          ],
          "name": "stdout"
        }
      ]
    },
    {
      "cell_type": "code",
      "metadata": {
        "colab": {
          "base_uri": "https://localhost:8080/"
        },
        "id": "Yhq7ZHCN4eXq",
        "outputId": "20b6867a-c2a0-4f6d-883d-35e3ac103e54"
      },
      "source": [
        "# DecisionTreeClassifier\n",
        "rand_seeds = np.random.RandomState(1).randint(1,100,5)\n",
        "model_DT = DecisionTreeClassifier(criterion='entropy')\n",
        "params_DT = {'min_samples_leaf': np.arange(0.010, 0.028, 0.002)}\n",
        "CV_DT = GridSearchCV(model_DT, param_grid=params_DT, cv=5, n_jobs=-1, scoring='roc_auc')\n",
        "best_param_DT = []\n",
        "AUC_score_DT = []\n",
        "Accuracy_DT = []\n",
        "\n",
        "for i in rand_seeds:\n",
        "  x_train, y_train, x_test, y_test = data_prep_func(X, Y, random_state=i)\n",
        "  CV_DT.fit(x_train, y_train)\n",
        "  predict_probs = CV_DT.predict_proba(x_test)[:,1]\n",
        "  predict_labels = CV_DT.predict(x_test)\n",
        "  best_param_DT.append(CV_DT.best_params_)\n",
        "  AUC_score_DT.append(roc_auc_score(y_true=y_test, y_score=predict_probs))\n",
        "  Accuracy_DT.append(accuracy_score(y_true=y_test, y_pred=predict_labels))\n",
        "\n",
        "avg_AUC_DT = np.mean(AUC_score_DT)\n",
        "avg_accuracy_DT = np.mean(Accuracy_DT)\n",
        "\n",
        "print('The average AUC score of the Decision Tree model is:\\n{:.3f}'.format(avg_AUC_DT))\n",
        "print('\\nThe average accuracy of the Decision Tree model is:\\n{:.3f}'.format(avg_accuracy_DT))"
      ],
      "execution_count": null,
      "outputs": [
        {
          "output_type": "stream",
          "text": [
            "The average AUC score of the Decision Tree model is:\n",
            "0.502\n",
            "\n",
            "The average accuracy of the Decision Tree model is:\n",
            "0.970\n"
          ],
          "name": "stdout"
        }
      ]
    },
    {
      "cell_type": "code",
      "metadata": {
        "colab": {
          "base_uri": "https://localhost:8080/"
        },
        "id": "jFOFWgmXn5iG",
        "outputId": "00b06c29-2da9-4626-91b7-a98aa7b3fb1b"
      },
      "source": [
        "best_param_DT"
      ],
      "execution_count": null,
      "outputs": [
        {
          "output_type": "execute_result",
          "data": {
            "text/plain": [
              "[{'min_samples_leaf': 0.012},\n",
              " {'min_samples_leaf': 0.014},\n",
              " {'min_samples_leaf': 0.014},\n",
              " {'min_samples_leaf': 0.02},\n",
              " {'min_samples_leaf': 0.01}]"
            ]
          },
          "metadata": {
            "tags": []
          },
          "execution_count": 46
        }
      ]
    },
    {
      "cell_type": "code",
      "metadata": {
        "colab": {
          "base_uri": "https://localhost:8080/"
        },
        "id": "IlDcbE2Q-BDX",
        "outputId": "26d0e50b-03fd-403b-ff3d-ff2498265833"
      },
      "source": [
        "# LogisticRegression\n",
        "rand_seeds = np.random.RandomState(1).randint(1,100,5)\n",
        "model_LR = LogisticRegression(max_iter=1000, n_jobs=-1)\n",
        "params_LR = {'C': [2**p for p in range(-8, -1)]}\n",
        "CV_LR = GridSearchCV(model_LR, param_grid=params_LR, cv=5, n_jobs=-1, scoring='roc_auc')\n",
        "best_param_LR = []\n",
        "AUC_score_LR = []\n",
        "Accuracy_LR = []\n",
        "\n",
        "for i in rand_seeds:\n",
        "  x_train, y_train, x_test, y_test = data_prep_func(X, Y, random_state=i)\n",
        "  CV_LR.fit(x_train, y_train)\n",
        "  predict_probs = CV_LR.predict_proba(x_test)[:,1]\n",
        "  predict_labels = CV_LR.predict(x_test)\n",
        "  best_param_LR.append(CV_LR.best_params_)\n",
        "  AUC_score_LR.append(roc_auc_score(y_true=y_test, y_score=predict_probs))\n",
        "  Accuracy_LR.append(accuracy_score(y_true=y_test, y_pred=predict_labels))\n",
        "\n",
        "avg_AUC_LR = np.mean(AUC_score_LR)\n",
        "avg_accuracy_LR = np.mean(Accuracy_LR)\n",
        "\n",
        "print('The average AUC score of the Logistic Regression model is:\\n{:.3f}'.format(avg_AUC_LR))\n",
        "print('\\nThe average accuracy of the Logistic Regression model is:\\n{:.3f}'.format(avg_accuracy_LR))"
      ],
      "execution_count": null,
      "outputs": [
        {
          "output_type": "stream",
          "text": [
            "The average AUC score of the Logistic Regression model is:\n",
            "0.743\n",
            "\n",
            "The average accuracy of the Logistic Regression model is:\n",
            "0.970\n"
          ],
          "name": "stdout"
        }
      ]
    },
    {
      "cell_type": "code",
      "metadata": {
        "colab": {
          "base_uri": "https://localhost:8080/"
        },
        "id": "BWA5aGcbn66J",
        "outputId": "8d16c7bf-9dd5-428c-dd5a-c99cb1186c20"
      },
      "source": [
        "best_param_LR"
      ],
      "execution_count": null,
      "outputs": [
        {
          "output_type": "execute_result",
          "data": {
            "text/plain": [
              "[{'C': 0.0625}, {'C': 0.015625}, {'C': 0.25}, {'C': 0.0078125}, {'C': 0.03125}]"
            ]
          },
          "metadata": {
            "tags": []
          },
          "execution_count": 47
        }
      ]
    },
    {
      "cell_type": "code",
      "metadata": {
        "colab": {
          "base_uri": "https://localhost:8080/"
        },
        "id": "w-6gSCJXF-oi",
        "outputId": "d9597541-1843-417c-83b4-2702e1c170d7"
      },
      "source": [
        "# RandomForestClassifier\n",
        "rand_seeds = np.random.RandomState(1).randint(1,100,5)\n",
        "model_RFC = RandomForestClassifier(n_jobs=-1)\n",
        "params_RFC = {'n_estimators': np.arange(250, 401, 50)}\n",
        "CV_RFC = GridSearchCV(model_RFC, param_grid=params_RFC, cv=5, n_jobs=-1, scoring='roc_auc')\n",
        "best_param_RFC = []\n",
        "AUC_score_RFC = []\n",
        "Accuracy_RFC = []\n",
        "\n",
        "for i in rand_seeds:\n",
        "  x_train, y_train, x_test, y_test = data_prep_func(X, Y, random_state=i)\n",
        "  CV_RFC.fit(x_train, y_train)\n",
        "  predict_probs = CV_RFC.predict_proba(x_test)[:,1]\n",
        "  predict_labels = CV_RFC.predict(x_test)\n",
        "  best_param_RFC.append(CV_RFC.best_params_)\n",
        "  AUC_score_RFC.append(roc_auc_score(y_true=y_test, y_score=predict_probs))\n",
        "  Accuracy_RFC.append(accuracy_score(y_true=y_test, y_pred=predict_labels))\n",
        "\n",
        "avg_AUC_RFC = np.mean(AUC_score_RFC)\n",
        "avg_accuracy_RFC = np.mean(Accuracy_RFC)\n",
        "\n",
        "print('The average AUC score of the Random Forest Classifier model is:\\n{:.3f}'.format(avg_AUC_RFC))\n",
        "print('\\nThe average accuracy of the Random Forest Classifier model is:\\n{:.3f}'.format(avg_accuracy_RFC))"
      ],
      "execution_count": null,
      "outputs": [
        {
          "output_type": "stream",
          "text": [
            "The average AUC score of the Random Forest Classifier model is:\n",
            "0.882\n",
            "\n",
            "The average accuracy of the Random Forest Classifier model is:\n",
            "0.971\n"
          ],
          "name": "stdout"
        }
      ]
    },
    {
      "cell_type": "code",
      "metadata": {
        "colab": {
          "base_uri": "https://localhost:8080/"
        },
        "id": "Rr-VG_SJz3zY",
        "outputId": "1ae15500-7cf8-423e-ffa2-2d3c98fff8f9"
      },
      "source": [
        "AUC_score_RFC"
      ],
      "execution_count": null,
      "outputs": [
        {
          "output_type": "execute_result",
          "data": {
            "text/plain": [
              "[0.8814528062759759,\n",
              " 0.8806433087906376,\n",
              " 0.8736811037342952,\n",
              " 0.8924372980640106,\n",
              " 0.8808390714260579]"
            ]
          },
          "metadata": {
            "tags": []
          },
          "execution_count": 49
        }
      ]
    },
    {
      "cell_type": "code",
      "metadata": {
        "colab": {
          "base_uri": "https://localhost:8080/"
        },
        "id": "VQnsFASYn78p",
        "outputId": "6f9c6f85-5ef4-4fb6-ee6d-4097f198eb3b"
      },
      "source": [
        "best_param_RFC"
      ],
      "execution_count": null,
      "outputs": [
        {
          "output_type": "execute_result",
          "data": {
            "text/plain": [
              "[{'n_estimators': 300},\n",
              " {'n_estimators': 400},\n",
              " {'n_estimators': 350},\n",
              " {'n_estimators': 400},\n",
              " {'n_estimators': 400}]"
            ]
          },
          "metadata": {
            "tags": []
          },
          "execution_count": 48
        }
      ]
    },
    {
      "cell_type": "code",
      "metadata": {
        "colab": {
          "base_uri": "https://localhost:8080/",
          "height": 492
        },
        "id": "xC9gyw_XK7vv",
        "outputId": "68cf2d77-84b5-44c7-f997-6296aa5ead86"
      },
      "source": [
        "Models_Results = {'Decision Tree': avg_AUC_DT,\n",
        "                  'Logistic Regression': avg_AUC_LR,\n",
        "                  'Random Forest': avg_AUC_RFC,\n",
        "                  'K-Neighbors': baseline_AUC}\n",
        "\n",
        "width = 0.5\n",
        "fig, ax = plt.subplots(figsize=(10,8))\n",
        "rects = ax.bar(Models_Results.keys(), np.round(list(Models_Results.values()), 4)*100, width)\n",
        "plt.title('Average of %AUC for 5-fold cross-validation of classification models')\n",
        "plt.ylabel('Average 5-fold %AUC')\n",
        "plt.ylim(0, 100)\n",
        "plt.xticks(rotation=45)\n",
        "plt.subplots_adjust(bottom=0.25)\n",
        "\n",
        "def autolabel(rects, xpos='center'):\n",
        "    \"\"\"\n",
        "    Attach a text label above each bar in *rects*, displaying its height.\n",
        "\n",
        "    *xpos* indicates which side to place the text w.r.t. the center of\n",
        "    the bar. It can be one of the following {'center', 'right', 'left'}.\n",
        "    \"\"\"\n",
        "\n",
        "    ha = {'center': 'center', 'right': 'left', 'left': 'right'}\n",
        "    offset = {'center': 0, 'right': 1, 'left': -1}\n",
        "\n",
        "    for rect in rects:\n",
        "        height = rect.get_height()\n",
        "        ax.annotate('{}'.format(height),\n",
        "                    xy=(rect.get_x() + rect.get_width() / 2, height),\n",
        "                    xytext=(offset[xpos]*3, 3),  # use 3 points offset\n",
        "                    textcoords=\"offset points\",  # in both directions\n",
        "                    ha=ha[xpos], va='bottom')\n",
        "\n",
        "\n",
        "autolabel(rects, 'center')\n",
        "\n",
        "plt.show()"
      ],
      "execution_count": null,
      "outputs": [
        {
          "output_type": "display_data",
          "data": {
            "image/png": "[encoded data removed]",
            "text/plain": [
              "<Figure size 720x576 with 1 Axes>"
            ]
          },
          "metadata": {
            "tags": [],
            "needs_background": "light"
          }
        }
      ]
    },
    {
      "cell_type": "markdown",
      "metadata": {
        "id": "f05xSNaQK7BL"
      },
      "source": [
        "# **Predicting default probability on test dataset**"
      ]
    },
    {
      "cell_type": "code",
      "metadata": {
        "colab": {
          "base_uri": "https://localhost:8080/",
          "height": 255
        },
        "id": "ALdkAbxYM7P2",
        "outputId": "7b6b8681-53e7-45e2-b864-125320cd6085"
      },
      "source": [
        "# import and prepare the test data \n",
        "data_test = pd.read_excel('/content/drive/MyDrive/Shakeel-Azhara/DSC2020_Test.xlsx', index_col='LoanID')\n",
        "data_test[transform_str_list] = data_test[transform_str_list].astype(str)\n",
        "data_test.replace(to_replace='nan', value=np.nan, inplace=True)\n",
        "data_test = data_test.drop(columns=drop_cols)\n",
        "data_test.head()"
      ],
      "execution_count": null,
      "outputs": [
        {
          "output_type": "execute_result",
          "data": {
            "text/html": [
              "<div>\n",
              "<style scoped>\n",
              "    .dataframe tbody tr th:only-of-type {\n",
              "        vertical-align: middle;\n",
              "    }\n",
              "\n",
              "    .dataframe tbody tr th {\n",
              "        vertical-align: top;\n",
              "    }\n",
              "\n",
              "    .dataframe thead th {\n",
              "        text-align: right;\n",
              "    }\n",
              "</style>\n",
              "<table border=\"1\" class=\"dataframe\">\n",
              "  <thead>\n",
              "    <tr style=\"text-align: right;\">\n",
              "      <th></th>\n",
              "      <th>Type</th>\n",
              "      <th>BEH_SCORE_AVG_A1</th>\n",
              "      <th>BEH_SCORE_AVG_A2</th>\n",
              "      <th>BEH_SCORE_MIN_A2</th>\n",
              "      <th>FHS_SCORE_AVG</th>\n",
              "      <th>FHS_SCORE_LATEST</th>\n",
              "      <th>CASH_FLOW_AMT</th>\n",
              "      <th>MTHS_SNC_1ST_REC_CNT</th>\n",
              "      <th>Managing_Sales_Office_Nbr</th>\n",
              "      <th>Postal_Code_L</th>\n",
              "      <th>A1_AVG_POS_SALDO_PROF_1_AMT</th>\n",
              "      <th>Invest_Amt</th>\n",
              "      <th>Original_loan_Amt</th>\n",
              "      <th>Product_Desc</th>\n",
              "      <th>CREDIT_TYPE_CD</th>\n",
              "      <th>ACCOUNT_PURPOSE_CD</th>\n",
              "      <th>A1_TOT_DEB_INTEREST_PROF_6_AMT</th>\n",
              "      <th>A2_MTHS_SNC_LAST_LIQ_PRIV_CNT</th>\n",
              "      <th>A2_MTHS_SNC_FIRST_COREPROF_CNT</th>\n",
              "      <th>A2_MARITAL_STATUS_CD</th>\n",
              "      <th>A1_TOT_DEB_INTEREST_PROF_1_AMT</th>\n",
              "      <th>MTHS_IN_BUSINESS_CNT</th>\n",
              "      <th>A2_MTHS_SNC_LAST_LIQ_SAVE_CNT</th>\n",
              "      <th>A1_NEGAT_TRANS_COREPROF_CNT</th>\n",
              "      <th>FINANCIAL_PRODUCT_TYPE_CD</th>\n",
              "      <th>A1_OVERDRAWN_DAYS_PROF_24_CNT</th>\n",
              "      <th>A1_OVERDRAWN_DAYS_PROF_6_CNT</th>\n",
              "      <th>A2_EMPLOYMENT_STATUS_CD</th>\n",
              "      <th>A1_AVG_NEG_SALDO_PROF_3_AMT</th>\n",
              "      <th>A1_AVG_POS_SALDO_PROF_12_AMT</th>\n",
              "      <th>A2_RESIDENT_STATUS_CD</th>\n",
              "      <th>A1_TOT_STND_PAYMNT_INT_PROF_CNT</th>\n",
              "      <th>CASHFLOW_MONTHLY_CREDIT_RT</th>\n",
              "      <th>MONTHS_SINCE_LAST_REFUSAL_CNT</th>\n",
              "      <th>MONTHLY_CREDIT_AMT_TOT</th>\n",
              "      <th>A2_ANNUAL_INCOME_AMT_scale</th>\n",
              "      <th>A2_AVG_NEG_SALDO_PRIV_12_AMT_scale</th>\n",
              "      <th>A2_AVG_POS_SALDO_SAVINGS_12_AMT_scale</th>\n",
              "      <th>A2_TOTAL_EMPLOYMENT_MONTHS_CNT_scale</th>\n",
              "      <th>Label_Default</th>\n",
              "    </tr>\n",
              "    <tr>\n",
              "      <th>LoanID</th>\n",
              "      <th></th>\n",
              "      <th></th>\n",
              "      <th></th>\n",
              "      <th></th>\n",
              "      <th></th>\n",
              "      <th></th>\n",
              "      <th></th>\n",
              "      <th></th>\n",
              "      <th></th>\n",
              "      <th></th>\n",
              "      <th></th>\n",
              "      <th></th>\n",
              "      <th></th>\n",
              "      <th></th>\n",
              "      <th></th>\n",
              "      <th></th>\n",
              "      <th></th>\n",
              "      <th></th>\n",
              "      <th></th>\n",
              "      <th></th>\n",
              "      <th></th>\n",
              "      <th></th>\n",
              "      <th></th>\n",
              "      <th></th>\n",
              "      <th></th>\n",
              "      <th></th>\n",
              "      <th></th>\n",
              "      <th></th>\n",
              "      <th></th>\n",
              "      <th></th>\n",
              "      <th></th>\n",
              "      <th></th>\n",
              "      <th></th>\n",
              "      <th></th>\n",
              "      <th></th>\n",
              "      <th></th>\n",
              "      <th></th>\n",
              "      <th></th>\n",
              "      <th></th>\n",
              "      <th></th>\n",
              "    </tr>\n",
              "  </thead>\n",
              "  <tbody>\n",
              "    <tr>\n",
              "      <th>1</th>\n",
              "      <td>Company_Known</td>\n",
              "      <td>701.0</td>\n",
              "      <td>705.509472</td>\n",
              "      <td>705.509472</td>\n",
              "      <td>99.979423</td>\n",
              "      <td>99.984423</td>\n",
              "      <td>5330.0</td>\n",
              "      <td>170.0</td>\n",
              "      <td>502bb1fe</td>\n",
              "      <td>c2484906</td>\n",
              "      <td>6905.41</td>\n",
              "      <td>27685.95</td>\n",
              "      <td>33500.0</td>\n",
              "      <td>Car4Pro</td>\n",
              "      <td>IK</td>\n",
              "      <td>65</td>\n",
              "      <td>601.41</td>\n",
              "      <td>115.0</td>\n",
              "      <td>NaN</td>\n",
              "      <td>2</td>\n",
              "      <td>101.29</td>\n",
              "      <td>170.0</td>\n",
              "      <td>20.0</td>\n",
              "      <td>18.0</td>\n",
              "      <td>MTG</td>\n",
              "      <td>0.0</td>\n",
              "      <td>0.0</td>\n",
              "      <td>406</td>\n",
              "      <td>926.41</td>\n",
              "      <td>3216.32</td>\n",
              "      <td>1.0</td>\n",
              "      <td>1.0</td>\n",
              "      <td>9.546269</td>\n",
              "      <td>NaN</td>\n",
              "      <td>558.333333</td>\n",
              "      <td>0.007935</td>\n",
              "      <td>0.171879</td>\n",
              "      <td>-0.283450</td>\n",
              "      <td>2.564626</td>\n",
              "      <td>?</td>\n",
              "    </tr>\n",
              "    <tr>\n",
              "      <th>2</th>\n",
              "      <td>Company_Known</td>\n",
              "      <td>685.0</td>\n",
              "      <td>712.715611</td>\n",
              "      <td>712.715611</td>\n",
              "      <td>99.777002</td>\n",
              "      <td>99.489870</td>\n",
              "      <td>19076.0</td>\n",
              "      <td>380.0</td>\n",
              "      <td>828c2ee2</td>\n",
              "      <td>895c9c89</td>\n",
              "      <td>5836.19</td>\n",
              "      <td>130000.00</td>\n",
              "      <td>130000.0</td>\n",
              "      <td>Immo4Pro</td>\n",
              "      <td>IK</td>\n",
              "      <td>106</td>\n",
              "      <td>0.00</td>\n",
              "      <td>4.0</td>\n",
              "      <td>NaN</td>\n",
              "      <td>2</td>\n",
              "      <td>0.00</td>\n",
              "      <td>370.0</td>\n",
              "      <td>44.0</td>\n",
              "      <td>29.0</td>\n",
              "      <td>MTG</td>\n",
              "      <td>0.0</td>\n",
              "      <td>0.0</td>\n",
              "      <td>406</td>\n",
              "      <td>0.00</td>\n",
              "      <td>5761.16</td>\n",
              "      <td>0.0</td>\n",
              "      <td>5.0</td>\n",
              "      <td>26.412923</td>\n",
              "      <td>199.0</td>\n",
              "      <td>722.222222</td>\n",
              "      <td>-0.443644</td>\n",
              "      <td>-0.183191</td>\n",
              "      <td>0.576338</td>\n",
              "      <td>1.661988</td>\n",
              "      <td>?</td>\n",
              "    </tr>\n",
              "    <tr>\n",
              "      <th>3</th>\n",
              "      <td>Company_Known</td>\n",
              "      <td>685.0</td>\n",
              "      <td>712.715611</td>\n",
              "      <td>712.715611</td>\n",
              "      <td>99.777002</td>\n",
              "      <td>99.489870</td>\n",
              "      <td>19076.0</td>\n",
              "      <td>380.0</td>\n",
              "      <td>828c2ee2</td>\n",
              "      <td>895c9c89</td>\n",
              "      <td>5836.19</td>\n",
              "      <td>370000.00</td>\n",
              "      <td>370000.0</td>\n",
              "      <td>Immo4Pro</td>\n",
              "      <td>IK</td>\n",
              "      <td>306</td>\n",
              "      <td>0.00</td>\n",
              "      <td>4.0</td>\n",
              "      <td>NaN</td>\n",
              "      <td>2</td>\n",
              "      <td>0.00</td>\n",
              "      <td>370.0</td>\n",
              "      <td>44.0</td>\n",
              "      <td>29.0</td>\n",
              "      <td>MTG</td>\n",
              "      <td>0.0</td>\n",
              "      <td>0.0</td>\n",
              "      <td>406</td>\n",
              "      <td>0.00</td>\n",
              "      <td>5761.16</td>\n",
              "      <td>0.0</td>\n",
              "      <td>5.0</td>\n",
              "      <td>9.280216</td>\n",
              "      <td>199.0</td>\n",
              "      <td>2055.555556</td>\n",
              "      <td>-0.443644</td>\n",
              "      <td>-0.183191</td>\n",
              "      <td>0.576338</td>\n",
              "      <td>1.661988</td>\n",
              "      <td>?</td>\n",
              "    </tr>\n",
              "    <tr>\n",
              "      <th>4</th>\n",
              "      <td>Company_Known</td>\n",
              "      <td>NaN</td>\n",
              "      <td>664.222048</td>\n",
              "      <td>664.222048</td>\n",
              "      <td>99.990255</td>\n",
              "      <td>99.971242</td>\n",
              "      <td>17638.0</td>\n",
              "      <td>199.0</td>\n",
              "      <td>32007b1b</td>\n",
              "      <td>42d103b6</td>\n",
              "      <td>10746.52</td>\n",
              "      <td>20300.00</td>\n",
              "      <td>20300.0</td>\n",
              "      <td>Equipment4Pro</td>\n",
              "      <td>IK</td>\n",
              "      <td>99</td>\n",
              "      <td>0.00</td>\n",
              "      <td>NaN</td>\n",
              "      <td>469.0</td>\n",
              "      <td>2</td>\n",
              "      <td>0.00</td>\n",
              "      <td>222.0</td>\n",
              "      <td>11.0</td>\n",
              "      <td>24.0</td>\n",
              "      <td>MTG</td>\n",
              "      <td>0.0</td>\n",
              "      <td>0.0</td>\n",
              "      <td>357</td>\n",
              "      <td>0.00</td>\n",
              "      <td>13090.55</td>\n",
              "      <td>1.0</td>\n",
              "      <td>1.0</td>\n",
              "      <td>52.132020</td>\n",
              "      <td>NaN</td>\n",
              "      <td>338.333333</td>\n",
              "      <td>-0.836872</td>\n",
              "      <td>NaN</td>\n",
              "      <td>0.832216</td>\n",
              "      <td>0.207250</td>\n",
              "      <td>?</td>\n",
              "    </tr>\n",
              "    <tr>\n",
              "      <th>5</th>\n",
              "      <td>Company_Known</td>\n",
              "      <td>631.0</td>\n",
              "      <td>NaN</td>\n",
              "      <td>NaN</td>\n",
              "      <td>98.109661</td>\n",
              "      <td>98.109661</td>\n",
              "      <td>47016.0</td>\n",
              "      <td>27.0</td>\n",
              "      <td>NaN</td>\n",
              "      <td>NaN</td>\n",
              "      <td>0.00</td>\n",
              "      <td>NaN</td>\n",
              "      <td>NaN</td>\n",
              "      <td>NaN</td>\n",
              "      <td>KK</td>\n",
              "      <td>1</td>\n",
              "      <td>7724.33</td>\n",
              "      <td>51.0</td>\n",
              "      <td>NaN</td>\n",
              "      <td>2</td>\n",
              "      <td>1864.88</td>\n",
              "      <td>26.0</td>\n",
              "      <td>55.0</td>\n",
              "      <td>47.0</td>\n",
              "      <td>LON</td>\n",
              "      <td>13.0</td>\n",
              "      <td>13.0</td>\n",
              "      <td>410</td>\n",
              "      <td>19273.16</td>\n",
              "      <td>1047.15</td>\n",
              "      <td>1.0</td>\n",
              "      <td>1.0</td>\n",
              "      <td>NaN</td>\n",
              "      <td>40.0</td>\n",
              "      <td>NaN</td>\n",
              "      <td>0.615306</td>\n",
              "      <td>0.971658</td>\n",
              "      <td>-0.393422</td>\n",
              "      <td>2.345539</td>\n",
              "      <td>?</td>\n",
              "    </tr>\n",
              "  </tbody>\n",
              "</table>\n",
              "</div>"
            ],
            "text/plain": [
              "                 Type  ...  Label_Default\n",
              "LoanID                 ...               \n",
              "1       Company_Known  ...              ?\n",
              "2       Company_Known  ...              ?\n",
              "3       Company_Known  ...              ?\n",
              "4       Company_Known  ...              ?\n",
              "5       Company_Known  ...              ?\n",
              "\n",
              "[5 rows x 40 columns]"
            ]
          },
          "metadata": {
            "tags": []
          },
          "execution_count": 52
        }
      ]
    },
    {
      "cell_type": "code",
      "metadata": {
        "id": "jZkj61lpPwZT"
      },
      "source": [
        "# preprocessing the data, training on the whole \n",
        "X_train_full = pd.DataFrame(index=data_train.index)\n",
        "X_test_full = pd.DataFrame(index=data_test.index)\n",
        "\n",
        "# Handling missing values\n",
        "pcnt_missing_all = (X.isna().sum()/X.shape[0])*100\n",
        "pcnt_missing_num = (X[num_cols].isna().sum()/X.shape[0])*100\n",
        "pcnt_missing_cat = (X[cat_cols].isna().sum()/X.shape[0])*100\n",
        "\n",
        "for col in pcnt_missing_all.index:\n",
        "  if pcnt_missing_all[col] >= 50 and pcnt_missing_all[col] < 90:\n",
        "    X_train_full[col] = X[col].isna().astype(int)\n",
        "    X_test_full[col] = data_test[col].isna().astype(int)\n",
        "\n",
        "for col in pcnt_missing_num.index:\n",
        "  if pcnt_missing_num[col] < 50:\n",
        "    mean_value = X[col].mean()\n",
        "    X_train_full[col] = X[col].fillna(value=mean_value)\n",
        "    X_test_full[col] = data_test[col].fillna(value=mean_value)\n",
        "\n",
        "for col in pcnt_missing_cat.index:\n",
        "  if pcnt_missing_cat[col] < 50:\n",
        "    freq_value = X[col].mode()[0]\n",
        "    X_train_full[col] = X[col].fillna(value=freq_value)\n",
        "    X_test_full[col] = data_test[col].fillna(value=freq_value)\n",
        "\n",
        "# Preprocessing Categorical Variabes\n",
        "cnt_unique = X_train_full.select_dtypes(include='object').nunique()\n",
        "\n",
        "for col in cnt_unique[cnt_unique <= 10].index:\n",
        "  X_train_full = X_train_full.join(pd.get_dummies(X[col], prefix=col[:5]))\n",
        "  X_train_full.drop(columns=col, inplace=True)\n",
        "  X_test_full = X_test_full.join(pd.get_dummies(data_test[col], prefix=col[:5]))\n",
        "  X_test_full.drop(columns=col, inplace=True)\n",
        "\n",
        "HCardinals = cnt_unique[cnt_unique > 10].index\n",
        "for col in HCardinals: \n",
        "  X_test_full[col]= X.groupby(col)[col].transform('count')/X.shape[0]\n",
        "  d = dict(zip(X[col], X_train_full[col]))\n",
        "  for i in list(set(data_test[col].unique()) - set(X[col].unique())):\n",
        "    d[i] = 0\n",
        "  X_test_full[col] = data_test[col].replace(d)"
      ],
      "execution_count": null,
      "outputs": []
    },
    {
      "cell_type": "code",
      "metadata": {
        "id": "HB_gfBoXhaH_"
      },
      "source": [
        "# training the RandomForestClassifier on the full training dataset\n",
        "\n",
        "best_model = RandomForestClassifier(n_jobs=-1)\n",
        "params = {'n_estimators': np.arange(350, 401, 10)}\n",
        "CV = GridSearchCV(best_model, param_grid=params, cv=5, n_jobs=-1, scoring='roc_auc')\n",
        "CV.fit(X_train_full, Y)"
      ],
      "execution_count": null,
      "outputs": []
    },
    {
      "cell_type": "code",
      "metadata": {
        "colab": {
          "base_uri": "https://localhost:8080/"
        },
        "id": "ivOPGvYZAhL2",
        "outputId": "47749b91-16f6-4e9c-851b-feca17543256"
      },
      "source": [
        "CV.best_params_"
      ],
      "execution_count": null,
      "outputs": [
        {
          "output_type": "execute_result",
          "data": {
            "text/plain": [
              "{'n_estimators': 370}"
            ]
          },
          "metadata": {
            "tags": []
          },
          "execution_count": 69
        }
      ]
    },
    {
      "cell_type": "code",
      "metadata": {
        "id": "KJ4Q0MP4iJjz"
      },
      "source": [
        "# making predictions on the preprocessed test dataset\n",
        "predictions = CV.predict_proba(X_test_full)"
      ],
      "execution_count": null,
      "outputs": []
    },
    {
      "cell_type": "code",
      "metadata": {
        "id": "KQ9CAGOBNsTf"
      },
      "source": [
        ""
      ],
      "execution_count": null,
      "outputs": []
    }
  ]
}